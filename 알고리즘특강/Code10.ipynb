{
  "nbformat": 4,
  "nbformat_minor": 0,
  "metadata": {
    "colab": {
      "name": "Code10.ipynb",
      "provenance": [],
      "collapsed_sections": []
    },
    "kernelspec": {
      "name": "python3",
      "display_name": "Python 3"
    },
    "language_info": {
      "name": "python"
    }
  },
  "cells": [
    {
      "cell_type": "code",
      "metadata": {
        "colab": {
          "base_uri": "https://localhost:8080/"
        },
        "id": "YK4BAPz-2Vz3",
        "outputId": "33103c1d-38be-484c-faa1-4fd137a21d84"
      },
      "source": [
        "## 함수\n",
        "def openBox():\n",
        "    global count\n",
        "    print('상자 열기~')\n",
        "    count -= 1\n",
        "    if count == 0:\n",
        "        print('** 선물 넣기 **')\n",
        "        return\n",
        "    openBox()\n",
        "    print('~~ 상자 닫기')\n",
        "\n",
        "## 전역\n",
        "count = 5\n",
        "\n",
        "## 메인\n",
        "openBox()"
      ],
      "execution_count": 4,
      "outputs": [
        {
          "output_type": "stream",
          "text": [
            "상자 열기~\n",
            "상자 열기~\n",
            "상자 열기~\n",
            "상자 열기~\n",
            "상자 열기~\n",
            "** 선물 넣기 **\n",
            "~~ 상자 닫기\n",
            "~~ 상자 닫기\n",
            "~~ 상자 닫기\n",
            "~~ 상자 닫기\n"
          ],
          "name": "stdout"
        }
      ]
    },
    {
      "cell_type": "markdown",
      "metadata": {
        "id": "j9Y7k3q55dde"
      },
      "source": [
        "## Code 10-03"
      ]
    },
    {
      "cell_type": "code",
      "metadata": {
        "colab": {
          "base_uri": "https://localhost:8080/"
        },
        "id": "fd0eszCb5NFb",
        "outputId": "43acfb6b-1eb2-4616-ad9d-265eac3d4c64"
      },
      "source": [
        "## 함수\n",
        "def addNumber(num):\n",
        "    if num <= 1:\n",
        "        return 1\n",
        "    return num + addNumber(num-1)\n",
        "\n",
        "## 메인\n",
        "print(addNumber(5))\n"
      ],
      "execution_count": 5,
      "outputs": [
        {
          "output_type": "stream",
          "text": [
            "15\n"
          ],
          "name": "stdout"
        }
      ]
    },
    {
      "cell_type": "markdown",
      "metadata": {
        "id": "4c2OsqCQ6oUw"
      },
      "source": [
        "## Code 10-05"
      ]
    },
    {
      "cell_type": "code",
      "metadata": {
        "colab": {
          "base_uri": "https://localhost:8080/"
        },
        "id": "fmVi0w2Q6p3W",
        "outputId": "1d3ac27b-9e55-42ae-b008-c521b75d898c"
      },
      "source": [
        "def countDown(n):\n",
        "    if n == 0:\n",
        "        print('발사!')\n",
        "    else:\n",
        "        print(n)\n",
        "        countDown(n-1)\n",
        "\n",
        "countDown(5)"
      ],
      "execution_count": 6,
      "outputs": [
        {
          "output_type": "stream",
          "text": [
            "5\n",
            "4\n",
            "3\n",
            "2\n",
            "1\n",
            "발사!\n"
          ],
          "name": "stdout"
        }
      ]
    },
    {
      "cell_type": "markdown",
      "metadata": {
        "id": "InUb27Db7DAK"
      },
      "source": [
        "## Code 10-06"
      ]
    },
    {
      "cell_type": "code",
      "metadata": {
        "colab": {
          "base_uri": "https://localhost:8080/"
        },
        "id": "P10c5HjT7E7s",
        "outputId": "eb6d7dbe-b92b-4a86-ed74-8ba4b79b9d1d"
      },
      "source": [
        "def printStar(n):\n",
        "    if n > 0:\n",
        "        printStar(n-1)\n",
        "        print('★'*n)\n",
        "\n",
        "printStar(5)"
      ],
      "execution_count": 7,
      "outputs": [
        {
          "output_type": "stream",
          "text": [
            "★\n",
            "★★\n",
            "★★★\n",
            "★★★★\n",
            "★★★★★\n"
          ],
          "name": "stdout"
        }
      ]
    },
    {
      "cell_type": "markdown",
      "metadata": {
        "id": "Bz7oAncd7SpU"
      },
      "source": [
        "## Code 10-07"
      ]
    },
    {
      "cell_type": "code",
      "metadata": {
        "colab": {
          "base_uri": "https://localhost:8080/"
        },
        "id": "XdJ5Dv6t7UNN",
        "outputId": "929ee346-e014-42b0-fb1b-0adaea7996ef"
      },
      "source": [
        "def gugu(dan, num):\n",
        "    print('%d X %d = %d' %(dan, num, dan*num))\n",
        "    if num < 9:\n",
        "        gugu(dan, num+1)\n",
        "\n",
        "for dan in range(2, 10):\n",
        "    print('## %d 단 ##' % dan)\n",
        "    gugu(dan,1)"
      ],
      "execution_count": 8,
      "outputs": [
        {
          "output_type": "stream",
          "text": [
            "## 2 단 ##\n",
            "2 X 1 = 2\n",
            "2 X 2 = 4\n",
            "2 X 3 = 6\n",
            "2 X 4 = 8\n",
            "2 X 5 = 10\n",
            "2 X 6 = 12\n",
            "2 X 7 = 14\n",
            "2 X 8 = 16\n",
            "2 X 9 = 18\n",
            "## 3 단 ##\n",
            "3 X 1 = 3\n",
            "3 X 2 = 6\n",
            "3 X 3 = 9\n",
            "3 X 4 = 12\n",
            "3 X 5 = 15\n",
            "3 X 6 = 18\n",
            "3 X 7 = 21\n",
            "3 X 8 = 24\n",
            "3 X 9 = 27\n",
            "## 4 단 ##\n",
            "4 X 1 = 4\n",
            "4 X 2 = 8\n",
            "4 X 3 = 12\n",
            "4 X 4 = 16\n",
            "4 X 5 = 20\n",
            "4 X 6 = 24\n",
            "4 X 7 = 28\n",
            "4 X 8 = 32\n",
            "4 X 9 = 36\n",
            "## 5 단 ##\n",
            "5 X 1 = 5\n",
            "5 X 2 = 10\n",
            "5 X 3 = 15\n",
            "5 X 4 = 20\n",
            "5 X 5 = 25\n",
            "5 X 6 = 30\n",
            "5 X 7 = 35\n",
            "5 X 8 = 40\n",
            "5 X 9 = 45\n",
            "## 6 단 ##\n",
            "6 X 1 = 6\n",
            "6 X 2 = 12\n",
            "6 X 3 = 18\n",
            "6 X 4 = 24\n",
            "6 X 5 = 30\n",
            "6 X 6 = 36\n",
            "6 X 7 = 42\n",
            "6 X 8 = 48\n",
            "6 X 9 = 54\n",
            "## 7 단 ##\n",
            "7 X 1 = 7\n",
            "7 X 2 = 14\n",
            "7 X 3 = 21\n",
            "7 X 4 = 28\n",
            "7 X 5 = 35\n",
            "7 X 6 = 42\n",
            "7 X 7 = 49\n",
            "7 X 8 = 56\n",
            "7 X 9 = 63\n",
            "## 8 단 ##\n",
            "8 X 1 = 8\n",
            "8 X 2 = 16\n",
            "8 X 3 = 24\n",
            "8 X 4 = 32\n",
            "8 X 5 = 40\n",
            "8 X 6 = 48\n",
            "8 X 7 = 56\n",
            "8 X 8 = 64\n",
            "8 X 9 = 72\n",
            "## 9 단 ##\n",
            "9 X 1 = 9\n",
            "9 X 2 = 18\n",
            "9 X 3 = 27\n",
            "9 X 4 = 36\n",
            "9 X 5 = 45\n",
            "9 X 6 = 54\n",
            "9 X 7 = 63\n",
            "9 X 8 = 72\n",
            "9 X 9 = 81\n"
          ],
          "name": "stdout"
        }
      ]
    }
  ]
}