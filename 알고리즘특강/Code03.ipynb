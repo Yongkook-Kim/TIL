{
  "nbformat": 4,
  "nbformat_minor": 0,
  "metadata": {
    "colab": {
      "name": "Code03.ipynb",
      "provenance": [],
      "collapsed_sections": []
    },
    "kernelspec": {
      "name": "python3",
      "display_name": "Python 3"
    },
    "language_info": {
      "name": "python"
    }
  },
  "cells": [
    {
      "cell_type": "markdown",
      "metadata": {
        "id": "UGGxGORLf6ip"
      },
      "source": [
        "## Code 03-01"
      ]
    },
    {
      "cell_type": "code",
      "metadata": {
        "id": "D9oseI_oLOBa"
      },
      "source": [
        "katok = []        # 빈 배열\n",
        "\n",
        "katok.append(None)\n",
        "katok[0] = '다현'\n",
        "katok.append(None)\n",
        "katok[1] = '정연'"
      ],
      "execution_count": 1,
      "outputs": []
    },
    {
      "cell_type": "code",
      "metadata": {
        "id": "WgNz41LvepKu"
      },
      "source": [
        "def add_data(friend):           # 새 친구 추가 함수\n",
        "    katok.append(None)\n",
        "    kLen = len(katok)\n",
        "    katok[kLen-1] = friend"
      ],
      "execution_count": 2,
      "outputs": []
    },
    {
      "cell_type": "code",
      "metadata": {
        "colab": {
          "base_uri": "https://localhost:8080/"
        },
        "id": "gcB0IxKvfBzN",
        "outputId": "7dda3568-ef33-4661-cbe8-aa324d93cd80"
      },
      "source": [
        "katok = []\n",
        "add_data('다현')\n",
        "add_data('정연')\n",
        "add_data('쯔위')\n",
        "add_data('사나')\n",
        "add_data('지효')\n",
        "print(katok)"
      ],
      "execution_count": 5,
      "outputs": [
        {
          "output_type": "stream",
          "text": [
            "['다현', '정연', '쯔위', '사나', '지효']\n"
          ],
          "name": "stdout"
        }
      ]
    },
    {
      "cell_type": "markdown",
      "metadata": {
        "id": "NPG26t2Hf9FI"
      },
      "source": [
        "## Code 03-02"
      ]
    },
    {
      "cell_type": "code",
      "metadata": {
        "id": "fN4WHahIfOKw"
      },
      "source": [
        "katok = ['다현', '정연', '쯔위', '사나', '지효']"
      ],
      "execution_count": 13,
      "outputs": []
    },
    {
      "cell_type": "code",
      "metadata": {
        "id": "k2jabW03gD6b"
      },
      "source": [
        "def insert_data(position, friend):          # 삽입 함수\n",
        "    katok.append(None)\n",
        "    kLen = len(katok)\n",
        "    for i in range(kLen-1, position, -1):\n",
        "        katok[i] = katok[i-1]\n",
        "        katok[i-1] = None\n",
        "    katok[position] = friend"
      ],
      "execution_count": 14,
      "outputs": []
    },
    {
      "cell_type": "code",
      "metadata": {
        "colab": {
          "base_uri": "https://localhost:8080/"
        },
        "id": "TgEr-ux2hB_k",
        "outputId": "2be51967-c020-45dc-af3a-7bfe642de842"
      },
      "source": [
        "insert_data(2, '솔라')\n",
        "print(katok)"
      ],
      "execution_count": 15,
      "outputs": [
        {
          "output_type": "stream",
          "text": [
            "['다현', '정연', '솔라', '쯔위', '사나', '지효']\n"
          ],
          "name": "stdout"
        }
      ]
    },
    {
      "cell_type": "code",
      "metadata": {
        "colab": {
          "base_uri": "https://localhost:8080/"
        },
        "id": "rf3oRzaGhTzj",
        "outputId": "ea0afa7b-f862-495f-fabc-f4c52f7a2816"
      },
      "source": [
        "insert_data(6, '문별')\n",
        "print(katok)"
      ],
      "execution_count": 16,
      "outputs": [
        {
          "output_type": "stream",
          "text": [
            "['다현', '정연', '솔라', '쯔위', '사나', '지효', '문별']\n"
          ],
          "name": "stdout"
        }
      ]
    },
    {
      "cell_type": "markdown",
      "metadata": {
        "id": "32u2I_T0iq2n"
      },
      "source": [
        "## Code 03-03"
      ]
    },
    {
      "cell_type": "code",
      "metadata": {
        "id": "r2MDwpVyhcBh"
      },
      "source": [
        "katok = ['다현', '정연', '쯔위', '사나', '지효']"
      ],
      "execution_count": 28,
      "outputs": []
    },
    {
      "cell_type": "code",
      "metadata": {
        "id": "vM5RVouXil7Z"
      },
      "source": [
        "def delete_data(position):\n",
        "    kLen = len(katok)\n",
        "    katok[position] = None\n",
        "    for i in range(position+1, kLen):\n",
        "        katok[i-1] = katok[i]\n",
        "        katok[i] = None\n",
        "    del(katok[kLen-1])"
      ],
      "execution_count": 29,
      "outputs": []
    },
    {
      "cell_type": "code",
      "metadata": {
        "colab": {
          "base_uri": "https://localhost:8080/"
        },
        "id": "Mg61ADO3jaOL",
        "outputId": "200429d2-eb43-4d0d-e631-6c5b227f57c1"
      },
      "source": [
        "delete_data(1)\n",
        "print(katok)"
      ],
      "execution_count": 30,
      "outputs": [
        {
          "output_type": "stream",
          "text": [
            "['다현', '쯔위', '사나', '지효']\n"
          ],
          "name": "stdout"
        }
      ]
    },
    {
      "cell_type": "markdown",
      "metadata": {
        "id": "oCSdQI-Uk6fY"
      },
      "source": [
        "## Code 03-04"
      ]
    },
    {
      "cell_type": "code",
      "metadata": {
        "colab": {
          "base_uri": "https://localhost:8080/"
        },
        "id": "YRqgUzCXjdi7",
        "outputId": "5a2637d8-3586-4064-8ae0-1cb3bffeef90"
      },
      "source": [
        "## 함수 선언부\n",
        "def add_data(friend):           # 새 친구 추가 함수\n",
        "    katok.append(None)\n",
        "    kLen = len(katok)\n",
        "    katok[kLen-1] = friend\n",
        "\n",
        "def insert_data(position, friend):          # 삽입 함수\n",
        "    katok.append(None)\n",
        "    kLen = len(katok)\n",
        "    for i in range(kLen-1, position, -1):\n",
        "        katok[i] = katok[i-1]\n",
        "        katok[i-1] = None\n",
        "    katok[position] = friend\n",
        "\n",
        "def delete_data(position):\n",
        "    kLen = len(katok)\n",
        "    katok[position] = None\n",
        "    for i in range(position+1, kLen):\n",
        "        katok[i-1] = katok[i]\n",
        "        katok[i] = None\n",
        "    del(katok[kLen-1])\n",
        "\n",
        "## 전역 변수부\n",
        "katok = []\n",
        "select = -1         # 1추가 2삽입 3삭제 4종료\n",
        "\n",
        "## 메인 코드부\n",
        "while select != 4:\n",
        "    select = int(input('1추가 2삽입 3삭제 4종료 -->'))\n",
        "\n",
        "    if select == 1:\n",
        "        friend = input('추가할 데이터 --> ')\n",
        "        add_data(friend)\n",
        "        print(katok)\n",
        "    elif select == 2:\n",
        "        position = int(input('삽입할 위치 --> '))\n",
        "        friend = input('추가할 데이터 --> ')\n",
        "        insert_data(position, friend)\n",
        "        print(katok)\n",
        "    elif select == 3:\n",
        "        position = int(input('삭제할 위치 --> '))\n",
        "        delete_data(position)\n",
        "        print(katok)\n",
        "    elif select == 4:\n",
        "        print(katok)\n",
        "        break\n",
        "    else:\n",
        "        print('다시 확인!')\n",
        "        continue\n"
      ],
      "execution_count": 32,
      "outputs": [
        {
          "output_type": "stream",
          "text": [
            "1추가 2삽입 3삭제 4종료 -->1\n",
            "추가할 데이터다현\n",
            "['다현']\n",
            "1추가 2삽입 3삭제 4종료 -->1\n",
            "추가할 데이터정연\n",
            "['다현', '정연']\n",
            "1추가 2삽입 3삭제 4종료 -->1\n",
            "추가할 데이터쯔위\n",
            "['다현', '정연', '쯔위']\n",
            "1추가 2삽입 3삭제 4종료 -->2\n",
            "삽입할 위치1\n",
            "추가할 데이터하나\n",
            "['다현', '하나', '정연', '쯔위']\n",
            "1추가 2삽입 3삭제 4종료 -->2\n",
            "삽입할 위치0\n",
            "추가할 데이터문별\n",
            "['문별', '다현', '하나', '정연', '쯔위']\n",
            "1추가 2삽입 3삭제 4종료 -->3\n",
            "삭제할 위치3\n",
            "['문별', '다현', '하나', '쯔위']\n",
            "1추가 2삽입 3삭제 4종료 -->4\n",
            "['문별', '다현', '하나', '쯔위']\n"
          ],
          "name": "stdout"
        }
      ]
    }
  ]
}