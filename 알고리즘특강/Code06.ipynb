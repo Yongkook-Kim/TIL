{
  "nbformat": 4,
  "nbformat_minor": 0,
  "metadata": {
    "colab": {
      "name": "Code06.ipynb",
      "provenance": [],
      "collapsed_sections": []
    },
    "kernelspec": {
      "name": "python3",
      "display_name": "Python 3"
    },
    "language_info": {
      "name": "python"
    }
  },
  "cells": [
    {
      "cell_type": "markdown",
      "metadata": {
        "id": "nufjjkSKwaPX"
      },
      "source": [
        "## Code 06-01"
      ]
    },
    {
      "cell_type": "code",
      "metadata": {
        "colab": {
          "base_uri": "https://localhost:8080/"
        },
        "id": "4-stoUb9q6in",
        "outputId": "ef2c9742-b887-4b16-d741-38bf4e766a38"
      },
      "source": [
        "stack = [None, None, None, None, None]\n",
        "top = -1\n",
        "\n",
        "top += 1\n",
        "stack[top] = '커피'\n",
        "top += 1\n",
        "stack[top] = '녹차'\n",
        "top += 1\n",
        "stack[top] = '꿀물'\n",
        "\n",
        "print(stack)"
      ],
      "execution_count": 2,
      "outputs": [
        {
          "output_type": "stream",
          "text": [
            "['커피', '녹차', '꿀물', None, None]\n"
          ],
          "name": "stdout"
        }
      ]
    },
    {
      "cell_type": "code",
      "metadata": {
        "colab": {
          "base_uri": "https://localhost:8080/"
        },
        "id": "OwLlHP3KwvVw",
        "outputId": "e2ff414c-c75d-4780-abdf-589b635fd6b6"
      },
      "source": [
        "data = stack[top]\n",
        "stack[top] = None\n",
        "top -= 1\n",
        "print('Pop --> ', data)"
      ],
      "execution_count": 3,
      "outputs": [
        {
          "output_type": "stream",
          "text": [
            "Pop -->  꿀물\n"
          ],
          "name": "stdout"
        }
      ]
    },
    {
      "cell_type": "code",
      "metadata": {
        "colab": {
          "base_uri": "https://localhost:8080/"
        },
        "id": "sNWnUDCuxX8W",
        "outputId": "2638ec06-5a70-4fb4-954f-c91dfdc11baf"
      },
      "source": [
        "data = stack[top]\n",
        "stack[top] = None\n",
        "top -= 1\n",
        "print('Pop --> ', data)"
      ],
      "execution_count": 4,
      "outputs": [
        {
          "output_type": "stream",
          "text": [
            "Pop -->  녹차\n"
          ],
          "name": "stdout"
        }
      ]
    },
    {
      "cell_type": "code",
      "metadata": {
        "colab": {
          "base_uri": "https://localhost:8080/"
        },
        "id": "75KEq54ZxcPN",
        "outputId": "f1d2b233-248c-48fb-f998-9b198623b731"
      },
      "source": [
        "data = stack[top]\n",
        "stack[top] = None\n",
        "top -= 1\n",
        "print('Pop --> ', data)"
      ],
      "execution_count": 5,
      "outputs": [
        {
          "output_type": "stream",
          "text": [
            "Pop -->  커피\n"
          ],
          "name": "stdout"
        }
      ]
    },
    {
      "cell_type": "code",
      "metadata": {
        "colab": {
          "base_uri": "https://localhost:8080/"
        },
        "id": "zsrNgDNExqCF",
        "outputId": "15b1cc5f-f732-4a1e-9ac1-9a784ae2772d"
      },
      "source": [
        "print(stack)"
      ],
      "execution_count": 6,
      "outputs": [
        {
          "output_type": "stream",
          "text": [
            "[None, None, None, None, None]\n"
          ],
          "name": "stdout"
        }
      ]
    },
    {
      "cell_type": "markdown",
      "metadata": {
        "id": "wUMYS2IuxvWn"
      },
      "source": [
        "## Code 06-06"
      ]
    },
    {
      "cell_type": "code",
      "metadata": {
        "colab": {
          "base_uri": "https://localhost:8080/"
        },
        "id": "zQ58a6jfxrUy",
        "outputId": "a7ec1d8b-0091-43a0-a0a0-e68402b7cdbb"
      },
      "source": [
        "## 함수 선언부\n",
        "def isStackFull():\n",
        "    global SIZE, stack, top\n",
        "    if top >= SIZE-1 :\n",
        "        return True\n",
        "    else:\n",
        "        return False\n",
        "\n",
        "def push(data):\n",
        "    global SIZE, stack, top\n",
        "    # 스택이 꽉 찼으면, 꽉 찼다는 메세지 출력하고 종료\n",
        "    if isStackFull():\n",
        "        print('꽉 찼습니다.')\n",
        "        return\n",
        "    # 아니라면, 스택에 데이터 넣기\n",
        "    top += 1\n",
        "    stack[top] = data\n",
        "\n",
        "def isStackEmpty():\n",
        "    global SIZE, stack, top\n",
        "    if top <= -1:\n",
        "        return True\n",
        "    return False\n",
        "\n",
        "def pop():\n",
        "    global SIZE, stack, top\n",
        "    # 스택이 비었는지 확인하고 비었으면 메세지 출력 후 종료\n",
        "    if isStackEmpty():\n",
        "        print('스택이 비었습니다.')\n",
        "        return None\n",
        "    # 스택이 안비었으면 데이터를 추출해서 반환\n",
        "    data = stack[top]\n",
        "    stack[top] = None\n",
        "    top -= 1\n",
        "    return data\n",
        "\n",
        "## 전역 변수부\n",
        "SIZE = 5\n",
        "stack = [None for _ in range(SIZE)]\n",
        "top = -1\n",
        "\n",
        "## 메인 코드부\n",
        "push('커피1')\n",
        "print(stack)\n",
        "push('커피2')\n",
        "print(stack)\n",
        "data = pop()\n",
        "print(stack, data)\n",
        "data = pop()\n",
        "print(stack, data)\n",
        "data = pop()\n",
        "print(stack, data)"
      ],
      "execution_count": 16,
      "outputs": [
        {
          "output_type": "stream",
          "text": [
            "['커피1', None, None, None, None]\n",
            "['커피1', '커피2', None, None, None]\n",
            "['커피1', None, None, None, None] 커피2\n",
            "[None, None, None, None, None] 커피1\n",
            "스택이 비었습니다.\n",
            "[None, None, None, None, None] None\n"
          ],
          "name": "stdout"
        }
      ]
    }
  ]
}