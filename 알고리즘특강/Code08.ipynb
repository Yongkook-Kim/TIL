{
  "nbformat": 4,
  "nbformat_minor": 0,
  "metadata": {
    "colab": {
      "name": "Code08.ipynb",
      "provenance": [],
      "collapsed_sections": []
    },
    "kernelspec": {
      "name": "python3",
      "display_name": "Python 3"
    },
    "language_info": {
      "name": "python"
    }
  },
  "cells": [
    {
      "cell_type": "markdown",
      "metadata": {
        "id": "e65eHGS8K6J4"
      },
      "source": [
        "## Code 08-01"
      ]
    },
    {
      "cell_type": "code",
      "metadata": {
        "colab": {
          "base_uri": "https://localhost:8080/"
        },
        "id": "LIejTFgYAbFU",
        "outputId": "22d0bd77-476d-4cae-be02-c55818067d98"
      },
      "source": [
        "class TreeNode():\n",
        "    def __init__(self):\n",
        "        self.left = None\n",
        "        self.data = None\n",
        "        self.right = None\n",
        "\n",
        "\n",
        "node1 = TreeNode()\n",
        "node1.data = '화사'\n",
        "\n",
        "node2 = TreeNode()\n",
        "node2.data = '솔라'\n",
        "node1.left = node2\n",
        "\n",
        "node3 = TreeNode()\n",
        "node3.data = '문별'\n",
        "node1.right = node3\n",
        "\n",
        "node4 = TreeNode()\n",
        "node4.data = '휘인'\n",
        "node2.left = node4\n",
        "\n",
        "node5 = TreeNode()\n",
        "node5.data = '쯔위'\n",
        "node2.right = node5\n",
        "\n",
        "node6 = TreeNode()\n",
        "node6.data = '선미'\n",
        "node3.left = node6\n",
        "\n",
        "print(node1.data, end=' ')\n",
        "print()\n",
        "print(node1.left.data, node1.right.data, end=' ')\n",
        "print()\n",
        "print(node1.left.left.data, node1.left.right.data, node1.right.left.data, end=' ')"
      ],
      "execution_count": 2,
      "outputs": [
        {
          "output_type": "stream",
          "text": [
            "화사 \n",
            "솔라 문별 \n",
            "휘인 쯔위 선미 "
          ],
          "name": "stdout"
        }
      ]
    },
    {
      "cell_type": "markdown",
      "metadata": {
        "id": "lR3Lw7ThLBBc"
      },
      "source": [
        "## Code 08-03"
      ]
    },
    {
      "cell_type": "code",
      "metadata": {
        "colab": {
          "base_uri": "https://localhost:8080/"
        },
        "id": "fo3CYbQIKJUh",
        "outputId": "17185a4b-6347-4d55-b4b5-82ef4aa44435"
      },
      "source": [
        "## 함수\n",
        "class TreeNode():\n",
        "    def __init__(self):\n",
        "        self.left = None\n",
        "        self.data = None\n",
        "        self.right = None\n",
        "\n",
        "## 전역\n",
        "memory = []\n",
        "root = None\n",
        "nameAry = ['블랙핑크', '레드벨벳', '마마무', '에이핑크', '걸스데이', '트와이스']\n",
        "\n",
        "## 메인\n",
        "node = TreeNode()\n",
        "node.data = nameAry[0]\n",
        "root = node\n",
        "memory.append(node)\n",
        "\n",
        "for name in nameAry[1:]:\n",
        "    node = TreeNode()\n",
        "    node.data = name\n",
        "\n",
        "    current = root\n",
        "    while True:\n",
        "        if name < current.data:\n",
        "            if current.left == None:\n",
        "                current.left = node\n",
        "                break\n",
        "            current = current.left\n",
        "        else:\n",
        "            if current.right == None:\n",
        "                current.right = node\n",
        "                break\n",
        "            current = current.right\n",
        "\n",
        "    memory.append(node)\n",
        "\n",
        "print('이진 탐색 트리 구성 완료!')\n",
        "\n",
        "\n",
        "findData = '마마무'\n",
        "current = root\n",
        "while True:\n",
        "    if current.data == findData:\n",
        "        print(findData, '찾았음!')\n",
        "        break\n",
        "    elif findData < current.data:\n",
        "        if current.left == None:\n",
        "            print(findData, '가 없습니다.',sep='')\n",
        "            break\n",
        "        current = current.left\n",
        "    else:\n",
        "        if current.right == None:\n",
        "            print(findData, '가 없습니다.', sep='')\n",
        "            break\n",
        "        current = current.right\n"
      ],
      "execution_count": 19,
      "outputs": [
        {
          "output_type": "stream",
          "text": [
            "이진 탐색 트리 구성 완료!\n",
            "마마무 찾았음!\n"
          ],
          "name": "stdout"
        }
      ]
    }
  ]
}