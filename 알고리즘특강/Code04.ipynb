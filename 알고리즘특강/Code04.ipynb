{
  "nbformat": 4,
  "nbformat_minor": 0,
  "metadata": {
    "colab": {
      "name": "Code04.ipynb",
      "provenance": [],
      "collapsed_sections": []
    },
    "kernelspec": {
      "name": "python3",
      "display_name": "Python 3"
    },
    "language_info": {
      "name": "python"
    }
  },
  "cells": [
    {
      "cell_type": "markdown",
      "metadata": {
        "id": "I8uFDiyf_292"
      },
      "source": [
        "## Code 04-01"
      ]
    },
    {
      "cell_type": "code",
      "metadata": {
        "colab": {
          "base_uri": "https://localhost:8080/"
        },
        "id": "sgqx_eI4f2dk",
        "outputId": "2bd68b40-3c12-4b3d-e8ef-1af6c202efe3"
      },
      "source": [
        "## 연결 리스트\n",
        "\n",
        "class Node():\n",
        "    def __init__(self):\n",
        "        self.data = None\n",
        "        self.link = None\n",
        "\n",
        "node1 = Node()\n",
        "node1.data = '다현'\n",
        "\n",
        "node2 = Node()\n",
        "node2.data = '정연'\n",
        "node1.link = node2\n",
        "\n",
        "node3 = Node()\n",
        "node3.data = '쯔위'\n",
        "node2.link = node3\n",
        "\n",
        "node4 = Node()\n",
        "node4.data = '사나'\n",
        "node3.link = node4\n",
        "\n",
        "node5 = Node()\n",
        "node5.data = '지효'\n",
        "node4.link = node5\n",
        "\n",
        "# print(node1.data, end=' ')\n",
        "# print(node1.link.data, end=' ')\n",
        "# print(node1.link.link.data, end=' ')\n",
        "# print(node1.link.link.link.data, end=' ')\n",
        "# print(node1.link.link.link.link.data, end=' ')\n",
        "\n",
        "current = node1\n",
        "print(current.data, end=' ')\n",
        "while (current.link != None):\n",
        "    current = current.link\n",
        "    print(current.data, end=' ')"
      ],
      "execution_count": 2,
      "outputs": [
        {
          "output_type": "stream",
          "text": [
            "다현 정연 쯔위 사나 지효 "
          ],
          "name": "stdout"
        }
      ]
    },
    {
      "cell_type": "markdown",
      "metadata": {
        "id": "25FDX3PkGSxK"
      },
      "source": [
        "## Code 04-08"
      ]
    },
    {
      "cell_type": "code",
      "metadata": {
        "colab": {
          "base_uri": "https://localhost:8080/"
        },
        "id": "9w6OrMhDBv4m",
        "outputId": "7811f044-cfbd-4281-c3af-9f07e01064e0"
      },
      "source": [
        "## 함수 선언부\n",
        "class Node():\n",
        "    def __init__(self):\n",
        "        self.data = None\n",
        "        self.link = None\n",
        "\n",
        "def printNodes(start):\n",
        "    current = start\n",
        "    print(current.data, end=' ')\n",
        "    while (current.link != None):\n",
        "        current = current.link\n",
        "        print(current.data, end=' ')\n",
        "    print()\n",
        "\n",
        "def insertNode(findData, insertData):\n",
        "    global memory, head, current, pre\n",
        "    if head.data == findData:           # 첫 노드 앞에 삽입\n",
        "        node = Node()\n",
        "        node.data = insertData\n",
        "        node.link = head\n",
        "        head = node\n",
        "        memory.append(node)\n",
        "        return\n",
        "    current = head          # 중간에 삽입\n",
        "    while current.link != None:\n",
        "        pre = current\n",
        "        current = current.link\n",
        "        if current.data == findData:\n",
        "            node = Node()\n",
        "            node.data = insertData\n",
        "            node.link = current\n",
        "            pre.link = node\n",
        "            memory.append(node)\n",
        "            return\n",
        "    node = Node()       # 마지막 노드 뒤에 삽입\n",
        "    node.data = insertData\n",
        "    current.link = node\n",
        "    memory.append(node)\n",
        "    return\n",
        "\n",
        "def deleteNode(deleteData):\n",
        "    global memory, head, current, pre\n",
        "    if head.data == deleteData:\n",
        "        current = head\n",
        "        head = head.link\n",
        "        del(current)\n",
        "        return\n",
        "    current = head\n",
        "    while current.link != None:\n",
        "        pre = current\n",
        "        current = current.link\n",
        "        if current.data == deleteData:\n",
        "            pre.link = current.link\n",
        "            del(current)\n",
        "            return\n",
        "\n",
        "def findNode(findData):\n",
        "    global memory, head, current, pre\n",
        "    if head.data == findData:\n",
        "        print('있습니다1')\n",
        "        return\n",
        "    current = head\n",
        "    while current.link != None:\n",
        "        current = current.link\n",
        "        if current.data == findData:\n",
        "            print('있습니다2')\n",
        "            return\n",
        "    print('없습니다')\n",
        "    return\n",
        "\n",
        "\n",
        "## 전역 변수부\n",
        "memory = []         # 노드를 저장할 공간\n",
        "head, current, pre = None, None, None\n",
        "dataArray = ['다현', '정연', '쯔위', '사나', '지효']\n",
        "\n",
        "## 메인 코드부\n",
        "\n",
        "node = Node()           # 첫번째 노드\n",
        "node.data = dataArray[0]\n",
        "head = node\n",
        "memory.append(node)\n",
        "\n",
        "for data in dataArray[1:]:          # ['정연', '쯔위', '사나', '지효']\n",
        "    pre = node\n",
        "    node = Node()\n",
        "    node.data = data\n",
        "    pre.link = node\n",
        "    memory.append(node)\n",
        "printNodes(head)\n",
        "\n",
        "# insertNode('다현', '화사')\n",
        "# printNodes(head)\n",
        "# insertNode('사나', '솔라')\n",
        "# printNodes(head)\n",
        "# insertNode('재남', '문별')\n",
        "# printNodes(head)\n",
        "\n",
        "# deleteNode('다현')\n",
        "# printNodes(head)\n",
        "# deleteNode('쯔위')\n",
        "# printNodes(head)\n",
        "\n",
        "findNode('정연')\n",
        "findNode('재남')\n",
        "findNode('다현')"
      ],
      "execution_count": 17,
      "outputs": [
        {
          "output_type": "stream",
          "text": [
            "다현 정연 쯔위 사나 지효 \n",
            "있습니다2\n",
            "없습니다\n",
            "있습니다1\n"
          ],
          "name": "stdout"
        }
      ]
    }
  ]
}