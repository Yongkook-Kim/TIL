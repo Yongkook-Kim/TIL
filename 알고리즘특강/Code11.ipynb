{
  "nbformat": 4,
  "nbformat_minor": 0,
  "metadata": {
    "colab": {
      "name": "Code11.ipynb",
      "provenance": [],
      "collapsed_sections": []
    },
    "kernelspec": {
      "name": "python3",
      "display_name": "Python 3"
    },
    "language_info": {
      "name": "python"
    }
  },
  "cells": [
    {
      "cell_type": "markdown",
      "metadata": {
        "id": "T7lXvcCWlVFO"
      },
      "source": [
        "# 선택정렬"
      ]
    },
    {
      "cell_type": "markdown",
      "metadata": {
        "id": "O2OUbJ5LgBd8"
      },
      "source": [
        "## Code 11-01"
      ]
    },
    {
      "cell_type": "code",
      "metadata": {
        "colab": {
          "base_uri": "https://localhost:8080/"
        },
        "id": "GKuzYFwFdQfJ",
        "outputId": "35bdfcea-3ce3-4338-ba51-e07bfc7c6a32"
      },
      "source": [
        "def findMinIndex(ary):\n",
        "    minIndex = 0\n",
        "    for i in range(1, len(ary)):\n",
        "        if (ary[minIndex] > ary[i]):\n",
        "            minIndex = i\n",
        "    return minIndex\n",
        "\n",
        "testAry = [55, 88, 33, 77]\n",
        "minPos = findMinIndex(testAry)\n",
        "print('최솟값 -->', testAry[minPos])"
      ],
      "execution_count": 2,
      "outputs": [
        {
          "output_type": "stream",
          "text": [
            "최솟값 --> 33\n"
          ],
          "name": "stdout"
        }
      ]
    },
    {
      "cell_type": "markdown",
      "metadata": {
        "id": "uo60HHICf_rv"
      },
      "source": [
        "## Code 11-02"
      ]
    },
    {
      "cell_type": "code",
      "metadata": {
        "colab": {
          "base_uri": "https://localhost:8080/"
        },
        "id": "Dtv5Jew9f_Q8",
        "outputId": "44bccd97-d02d-4600-e9ba-77e370c555cc"
      },
      "source": [
        "import random\n",
        "## 함수 선언부\n",
        "def findMinIndex(ary):\n",
        "    minIndex = 0\n",
        "    for i in range(1, len(ary)):\n",
        "        if (ary[minIndex] > ary[i]):\n",
        "            minIndex = i\n",
        "    return minIndex\n",
        "\n",
        "## 전역 변수부\n",
        "before = [random.randint(33,190) for _ in range(20)]\n",
        "after = []\n",
        "\n",
        "## 메인 코드부\n",
        "print('정렬 전 -->', before)\n",
        "\n",
        "# before의 개수만큼 반복\n",
        "# 가장 작은 위치를 알아내기\n",
        "# 가장 작은 값을 after에 넣은 후, before에서는 지우기\n",
        "\n",
        "for _ in range(len(before)):\n",
        "    min = findMinIndex(before)\n",
        "    after.append(before[min])\n",
        "    del(before[min])\n",
        "\n",
        "print('정렬 후 -->', after)"
      ],
      "execution_count": 7,
      "outputs": [
        {
          "output_type": "stream",
          "text": [
            "정렬 전 --> [44, 157, 69, 178, 78, 84, 90, 65, 96, 72, 175, 118, 170, 93, 161, 168, 147, 164, 178, 125]\n",
            "정렬 후 --> [44, 65, 69, 72, 78, 84, 90, 93, 96, 118, 125, 147, 157, 161, 164, 168, 170, 175, 178, 178]\n"
          ],
          "name": "stdout"
        }
      ]
    },
    {
      "cell_type": "markdown",
      "metadata": {
        "id": "6Td1Y2nDmVZ8"
      },
      "source": [
        "## Code 11-03"
      ]
    },
    {
      "cell_type": "code",
      "metadata": {
        "colab": {
          "base_uri": "https://localhost:8080/"
        },
        "id": "A7x2nd_vmXLi",
        "outputId": "6657e809-d3d2-4366-c7cc-21653d46ec90"
      },
      "source": [
        "## 함수\n",
        "def selectionSort(ary):\n",
        "    n = len(ary)\n",
        "    for i in range(0,n-1):\n",
        "        minIndex = i\n",
        "        for k in range(i+1, n):\n",
        "            if ary[minIndex] > ary[k]:\n",
        "                minIndex = k\n",
        "        ary[i], ary[minIndex] = ary[minIndex], ary[i]\n",
        "    return ary\n",
        "\n",
        "## 전역\n",
        "import random\n",
        "dataAry = [random.randint(33,190) for _ in range(20)]\n",
        "\n",
        "\n",
        "## 메인\n",
        "print('정렬 전 -->', dataAry)\n",
        "dataAry = selectionSort(dataAry)\n",
        "print('정렬 후 -->', dataAry)"
      ],
      "execution_count": 8,
      "outputs": [
        {
          "output_type": "stream",
          "text": [
            "정렬 전 --> [113, 184, 35, 142, 55, 188, 118, 52, 68, 165, 165, 128, 93, 41, 33, 155, 40, 101, 101, 142]\n",
            "정렬 후 --> [33, 35, 40, 41, 52, 55, 68, 93, 101, 101, 113, 118, 128, 142, 142, 155, 165, 165, 184, 188]\n"
          ],
          "name": "stdout"
        }
      ]
    },
    {
      "cell_type": "markdown",
      "metadata": {
        "id": "jxf0UlKZqZMo"
      },
      "source": [
        "## Code 11 내림차순"
      ]
    },
    {
      "cell_type": "code",
      "metadata": {
        "colab": {
          "base_uri": "https://localhost:8080/"
        },
        "id": "ty9Tp50HqbVd",
        "outputId": "a641e51b-5230-4cb2-88a3-d4375c850d66"
      },
      "source": [
        "## 함수\n",
        "def Sort(ary):\n",
        "    for i in range(0, len(ary)-1):\n",
        "        maxIndex = i\n",
        "        for k in range(i+1, len(ary)):\n",
        "            if ary[maxIndex] < ary[k]:\n",
        "                maxIndex = k\n",
        "        ary[i], ary[maxIndex] = ary[maxIndex], ary[i]\n",
        "    return ary\n",
        "\n",
        "## 전역\n",
        "import random\n",
        "dataAry = [random.randint(-100,100) for _ in range(30)]\n",
        "\n",
        "## 메인\n",
        "print(dataAry)\n",
        "Sort(dataAry)\n",
        "print(dataAry)"
      ],
      "execution_count": 10,
      "outputs": [
        {
          "output_type": "stream",
          "text": [
            "[61, 19, 15, -85, -67, -45, 43, -16, 98, -6, -96, 84, 63, -96, 97, 2, -93, 51, 16, 40, 85, 13, -65, -9, -53, -88, 83, 30, 88, 40]\n",
            "[98, 97, 88, 85, 84, 83, 63, 61, 51, 43, 40, 40, 30, 19, 16, 15, 13, 2, -6, -9, -16, -45, -53, -65, -67, -85, -88, -93, -96, -96]\n"
          ],
          "name": "stdout"
        }
      ]
    }
  ]
}