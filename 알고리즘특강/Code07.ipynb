{
  "nbformat": 4,
  "nbformat_minor": 0,
  "metadata": {
    "colab": {
      "name": "Code07.ipynb",
      "provenance": [],
      "collapsed_sections": []
    },
    "kernelspec": {
      "name": "python3",
      "display_name": "Python 3"
    },
    "language_info": {
      "name": "python"
    }
  },
  "cells": [
    {
      "cell_type": "markdown",
      "metadata": {
        "id": "JafsgRhKXEhR"
      },
      "source": [
        "## Code 07-01"
      ]
    },
    {
      "cell_type": "code",
      "metadata": {
        "colab": {
          "base_uri": "https://localhost:8080/"
        },
        "id": "gqUqs9GtVyEM",
        "outputId": "b0cc8696-620e-4575-9613-899f993c7b40"
      },
      "source": [
        "SIZE = 5\n",
        "queue = [None for _ in range(SIZE)]\n",
        "front = rear = -1\n",
        "\n",
        "rear += 1\n",
        "queue[rear] = '화사'\n",
        "\n",
        "rear += 1\n",
        "queue[rear] = '솔라'\n",
        "\n",
        "rear += 1\n",
        "queue[rear] = '문별'\n",
        "\n",
        "print('<--', queue, '<--')\n",
        "\n",
        "front += 1\n",
        "data = queue[front]\n",
        "queue[front] = None\n",
        "print('입장 손님 : ', data)\n",
        "\n",
        "front += 1\n",
        "data = queue[front]\n",
        "queue[front] = None\n",
        "print('입장 손님 : ', data)\n",
        "\n",
        "front += 1\n",
        "data = queue[front]\n",
        "queue[front] = None\n",
        "print('입장 손님 : ', data)\n",
        "\n",
        "print('<--', queue, '<--')"
      ],
      "execution_count": 7,
      "outputs": [
        {
          "output_type": "stream",
          "text": [
            "<-- ['화사', '솔라', '문별', None, None] <--\n",
            "입장 손님 :  화사\n",
            "입장 손님 :  솔라\n",
            "입장 손님 :  문별\n",
            "<-- [None, None, None, None, None] <--\n"
          ],
          "name": "stdout"
        }
      ]
    },
    {
      "cell_type": "markdown",
      "metadata": {
        "id": "mQ7lse1qZTFr"
      },
      "source": [
        "## Code 07-08"
      ]
    },
    {
      "cell_type": "code",
      "metadata": {
        "colab": {
          "base_uri": "https://localhost:8080/"
        },
        "id": "wsJ2U8pIYN2b",
        "outputId": "471d3581-543e-4212-9181-1a48490bd013"
      },
      "source": [
        "## 함수 선언부\n",
        "# def isQueueFull():\n",
        "#     global SIZE, queue, front, rear\n",
        "#     if (rear >= SIZE-1):\n",
        "#         print('큐가 가득 찼습니다.')\n",
        "#         return True\n",
        "#     else:\n",
        "#         return False\n",
        "\n",
        "def isQueueFull():\n",
        "    global SIZE, queue, front, rear\n",
        "    if (rear != SIZE-1):\n",
        "        return False\n",
        "    elif (rear == SIZE-1) and (front == -1):\n",
        "        return True\n",
        "    else:\n",
        "        for i in range(front+1, SIZE):\n",
        "            queue[i-1] = queue[i]\n",
        "            queue[i] = None\n",
        "        front -= 1\n",
        "        rear -= 1\n",
        "        return False\n",
        "\n",
        "def isQueueEmpty():\n",
        "    global SIZE, queue, front, rear\n",
        "    if (front == rear):\n",
        "        return True\n",
        "    return False\n",
        "\n",
        "def enQueue(data):\n",
        "    global SIZE, queue, front, rear\n",
        "    if isQueueFull():\n",
        "        return\n",
        "    rear += 1\n",
        "    queue[rear] = data\n",
        "\n",
        "def deQueue():\n",
        "    global SIZE, queue, front, rear\n",
        "    if isQueueEmpty():\n",
        "        print('큐가 비어있습니다.')\n",
        "        return None\n",
        "    front += 1\n",
        "    data = queue[front]\n",
        "    queue[front] = None\n",
        "    return data\n",
        "\n",
        "## 전역 변수부\n",
        "SIZE = 5\n",
        "queue = [None for _ in range(SIZE)]\n",
        "front = rear = -1\n",
        "\n",
        "## 메인 코드부\n",
        "\n",
        "enQueue('화사')\n",
        "enQueue('솔라')\n",
        "enQueue('문별')\n",
        "enQueue('휘인')\n",
        "enQueue('선미')\n",
        "print('<--', queue, '<--')\n",
        "\n",
        "data = deQueue(); print('디큐 : ', data)\n",
        "data = deQueue(); print('디큐 : ', data)\n",
        "print('<--', queue, '<--')\n",
        "\n",
        "enQueue('재남')\n",
        "print('<--', queue, '<--')\n",
        "enQueue('강아지')\n",
        "print('<--', queue, '<--')\n",
        "enQueue('고양이')\n",
        "print('<--', queue, '<--')"
      ],
      "execution_count": 15,
      "outputs": [
        {
          "output_type": "stream",
          "text": [
            "<-- ['화사', '솔라', '문별', '휘인', '선미'] <--\n",
            "디큐 :  화사\n",
            "디큐 :  솔라\n",
            "<-- [None, None, '문별', '휘인', '선미'] <--\n",
            "<-- [None, '문별', '휘인', '선미', '재남'] <--\n",
            "<-- ['문별', '휘인', '선미', '재남', '강아지'] <--\n",
            "<-- ['문별', '휘인', '선미', '재남', '강아지'] <--\n"
          ],
          "name": "stdout"
        }
      ]
    },
    {
      "cell_type": "markdown",
      "metadata": {
        "id": "uHoPFWy29GKS"
      },
      "source": [
        "## Code 07-11 원형큐"
      ]
    },
    {
      "cell_type": "code",
      "metadata": {
        "colab": {
          "base_uri": "https://localhost:8080/"
        },
        "id": "VoIixTybcWgc",
        "outputId": "ae2a2581-53f3-42ba-f3c8-c414f2d155cd"
      },
      "source": [
        "## 함수 선언부\n",
        "def isQueueFull():\n",
        "    global SIZE, queue, front, rear\n",
        "    if ((rear+1) % SIZE == front):\n",
        "        print('큐가 가득 찼습니다.')\n",
        "        return True\n",
        "    else:\n",
        "        return False\n",
        "\n",
        "def isQueueEmpty():\n",
        "    global SIZE, queue, front, rear\n",
        "    if (front == rear):\n",
        "        return True\n",
        "    return False\n",
        "\n",
        "def enQueue(data):\n",
        "    global SIZE, queue, front, rear\n",
        "    if isQueueFull():\n",
        "        return\n",
        "    rear = (rear+1) % SIZE\n",
        "    queue[rear] = data\n",
        "\n",
        "def deQueue():\n",
        "    global SIZE, queue, front, rear\n",
        "    if isQueueEmpty():\n",
        "        print('큐가 비어있습니다.')\n",
        "        return None\n",
        "    front = (front+1) % SIZE\n",
        "    data = queue[front]\n",
        "    queue[front] = None\n",
        "    return data\n",
        "\n",
        "## 전역 변수부\n",
        "SIZE = 5\n",
        "queue = [None for _ in range(SIZE)]\n",
        "front = rear = 0\n",
        "\n",
        "## 메인 코드부\n",
        "\n",
        "enQueue('화사')\n",
        "enQueue('솔라')\n",
        "enQueue('문별')\n",
        "enQueue('휘인')\n",
        "enQueue('선미')\n",
        "print('<--', queue, '<--')\n",
        "\n",
        "data = deQueue(); print('디큐 : ', data)\n",
        "data = deQueue(); print('디큐 : ', data)\n",
        "print('<--', queue, '<--')\n",
        "\n",
        "enQueue('재남')\n",
        "print('<--', queue, '<--')\n",
        "enQueue('강아지')\n",
        "print('<--', queue, '<--')\n",
        "enQueue('고양이')\n",
        "print('<--', queue, '<--')"
      ],
      "execution_count": 20,
      "outputs": [
        {
          "output_type": "stream",
          "text": [
            "큐가 가득 찼습니다.\n",
            "<-- [None, '화사', '솔라', '문별', '휘인'] <--\n",
            "디큐 :  화사\n",
            "디큐 :  솔라\n",
            "<-- [None, None, None, '문별', '휘인'] <--\n",
            "<-- ['재남', None, None, '문별', '휘인'] <--\n",
            "<-- ['재남', '강아지', None, '문별', '휘인'] <--\n",
            "큐가 가득 찼습니다.\n",
            "<-- ['재남', '강아지', None, '문별', '휘인'] <--\n"
          ],
          "name": "stdout"
        }
      ]
    }
  ]
}