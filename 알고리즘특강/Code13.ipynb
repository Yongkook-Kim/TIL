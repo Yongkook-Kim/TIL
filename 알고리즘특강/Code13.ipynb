{
  "nbformat": 4,
  "nbformat_minor": 0,
  "metadata": {
    "colab": {
      "name": "Code13.ipynb",
      "provenance": [],
      "collapsed_sections": []
    },
    "kernelspec": {
      "name": "python3",
      "display_name": "Python 3"
    },
    "language_info": {
      "name": "python"
    }
  },
  "cells": [
    {
      "cell_type": "markdown",
      "metadata": {
        "id": "YxX9UsxNvHCR"
      },
      "source": [
        "## 이진 검색 구현"
      ]
    },
    {
      "cell_type": "markdown",
      "metadata": {
        "id": "ufKCwSeUyyQ3"
      },
      "source": [
        "## Code 13-03"
      ]
    },
    {
      "cell_type": "code",
      "metadata": {
        "colab": {
          "base_uri": "https://localhost:8080/"
        },
        "id": "1awNf3EqsR-E",
        "outputId": "81c093f6-4470-417b-d7e0-141070895b4e"
      },
      "source": [
        "## 함수\n",
        "def search(ary, data):\n",
        "    start, last = 0, len(ary)-1\n",
        "    while True:\n",
        "        middle = (start+last)//2\n",
        "        if ary[middle] > data:\n",
        "            last = middle-1\n",
        "            if start > last:\n",
        "                return -1\n",
        "        elif ary[middle] < data:\n",
        "            start = middle+1\n",
        "            if start > last:\n",
        "                return -1\n",
        "        elif ary[middle] == data:\n",
        "            return middle\n",
        "\n",
        "## 전역\n",
        "dataAry = [50, 60, 105, 120, 150, 160, 162, 168, 177, 188]      # 정렬된 데이터\n",
        "\n",
        "# 메인\n",
        "print(dataAry)\n",
        "search(dataAry, 162)"
      ],
      "execution_count": 16,
      "outputs": [
        {
          "output_type": "stream",
          "text": [
            "[50, 60, 105, 120, 150, 160, 162, 168, 177, 188]\n"
          ],
          "name": "stdout"
        },
        {
          "output_type": "execute_result",
          "data": {
            "text/plain": [
              "6"
            ]
          },
          "metadata": {},
          "execution_count": 16
        }
      ]
    },
    {
      "cell_type": "markdown",
      "metadata": {
        "id": "wsyb-plK1NY8"
      },
      "source": [
        "## 강사님 코드"
      ]
    },
    {
      "cell_type": "code",
      "metadata": {
        "colab": {
          "base_uri": "https://localhost:8080/"
        },
        "id": "ITctliSwytqJ",
        "outputId": "efed1872-3db3-48bd-a039-503ee98d0d16"
      },
      "source": [
        "## 함수\n",
        "def binarySearch(ary, fdata):\n",
        "    pos = -1\n",
        "    start = 0\n",
        "    end = len(ary) - 1\n",
        "    while (start <= end):\n",
        "        mid = (start+end)//2\n",
        "        if fdata == ary[mid]:\n",
        "            return mid\n",
        "        elif fdata > ary[mid]:\n",
        "            start = mid + 1\n",
        "        else:\n",
        "            end = mid - 1\n",
        "    return pos\n",
        "\n",
        "## 전역\n",
        "dataAry = [50, 60, 105, 120, 150, 160, 162, 168, 177, 188]      # 정렬된 데이터\n",
        "findData = 162\n",
        "\n",
        "## 메인\n",
        "print('배열 --> ', dataAry)\n",
        "position = binarySearch(dataAry, findData)\n",
        "if position == -1:\n",
        "    print('못찾았습니다.')\n",
        "else:\n",
        "    print(findData,'는', position, '위치에 있습니다.')"
      ],
      "execution_count": 20,
      "outputs": [
        {
          "output_type": "stream",
          "text": [
            "배열 -->  [50, 60, 105, 120, 150, 160, 162, 168, 177, 188]\n",
            "162 는 6 위치에 있습니다.\n"
          ],
          "name": "stdout"
        }
      ]
    }
  ]
}