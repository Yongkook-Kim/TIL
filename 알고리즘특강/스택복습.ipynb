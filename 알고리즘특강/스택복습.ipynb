{
  "nbformat": 4,
  "nbformat_minor": 0,
  "metadata": {
    "colab": {
      "name": "스택복습.ipynb",
      "provenance": [],
      "collapsed_sections": []
    },
    "kernelspec": {
      "name": "python3",
      "display_name": "Python 3"
    },
    "language_info": {
      "name": "python"
    }
  },
  "cells": [
    {
      "cell_type": "code",
      "metadata": {
        "id": "hbb3jTIxGTG8"
      },
      "source": [
        "## 함수 선언\n",
        "def isStackFull():\n",
        "    global SIZE, stack, top\n",
        "    if (top == SIZE -1):\n",
        "        return True\n",
        "    else:\n",
        "        return False\n",
        "\n",
        "def isStackEmpty():\n",
        "    global SIZE, stack, top\n",
        "    if (top == -1):\n",
        "        return True\n",
        "    else:\n",
        "        return False\n",
        "\n",
        "def push(data):\n",
        "    global SIZE, stack, top\n",
        "    if (isStackFull()):\n",
        "        return\n",
        "    top += 1\n",
        "    stack[top] = data\n",
        "\n",
        "def pop():\n",
        "    global SIZE, stack, top\n",
        "    if isStackEmpty():\n",
        "        return None\n",
        "    data = stack[top]\n",
        "    stack[top] = None\n",
        "    top -= 1\n",
        "    return data\n",
        "\n",
        "## 전역 변수\n",
        "SIZE = 5\n",
        "stack = [None for _ in range(SIZE)]\n",
        "top = -1\n",
        "\n",
        "## 메인 코드\n",
        "# 데이터 6건 입력하기\n",
        "push('커피1')\n",
        "push('커피2')\n",
        "push('커피3')\n",
        "push('커피4')\n",
        "push('커피5')\n",
        "push('커피6')\n",
        "stack\n",
        "\n",
        "# 데이터 6건 빼기\n",
        "pop()\n",
        "pop()\n",
        "pop()\n",
        "pop()\n",
        "pop()\n",
        "pop()"
      ],
      "execution_count": 9,
      "outputs": []
    }
  ]
}