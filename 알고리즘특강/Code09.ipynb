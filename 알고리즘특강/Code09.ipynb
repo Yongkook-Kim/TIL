{
  "nbformat": 4,
  "nbformat_minor": 0,
  "metadata": {
    "colab": {
      "name": "Code09.ipynb",
      "provenance": [],
      "collapsed_sections": []
    },
    "kernelspec": {
      "name": "python3",
      "display_name": "Python 3"
    },
    "language_info": {
      "name": "python"
    }
  },
  "cells": [
    {
      "cell_type": "markdown",
      "metadata": {
        "id": "C4i3woQQa7A1"
      },
      "source": [
        "## Code 09-01"
      ]
    },
    {
      "cell_type": "code",
      "metadata": {
        "id": "Ra4MR0oPYip5"
      },
      "source": [
        "class Graph():\n",
        "    def __init__(self, size):\n",
        "        self.SIZE = size\n",
        "        self.graph = [[0 for _ in range(size)]for _ in range(size)]"
      ],
      "execution_count": 1,
      "outputs": []
    },
    {
      "cell_type": "code",
      "metadata": {
        "colab": {
          "base_uri": "https://localhost:8080/"
        },
        "id": "H_UVBhiZbYyg",
        "outputId": "171d5e97-9f18-43a5-c42e-4de9ed0ca13d"
      },
      "source": [
        "# 전역변수\n",
        "G1 = None\n",
        "A, B, C, D = 0, 1, 2, 3\n",
        "# 메인코드\n",
        "G1 = Graph(4)\n",
        "G1.graph[A][B] = 1; G1.graph[A][C] = 1; G1.graph[A][D] = 1\n",
        "G1.graph[B][A] = 1; G1.graph[B][C] = 1\n",
        "G1.graph[C][A] = 1; G1.graph[C][B] = 1; G1.graph[C][D] = 1\n",
        "G1.graph[D][A] = 1; G1.graph[D][C] = 1\n",
        "\n",
        "for row in range(4):\n",
        "    for col in range(4):\n",
        "        print(G1.graph[row][col], end = ' ')\n",
        "    print()"
      ],
      "execution_count": 2,
      "outputs": [
        {
          "output_type": "stream",
          "text": [
            "0 1 1 1 \n",
            "1 0 1 0 \n",
            "1 1 0 1 \n",
            "1 0 1 0 \n"
          ],
          "name": "stdout"
        }
      ]
    }
  ]
}