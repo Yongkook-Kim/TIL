{
  "nbformat": 4,
  "nbformat_minor": 0,
  "metadata": {
    "colab": {
      "name": "greedy_동전문제.ipynb",
      "provenance": [],
      "collapsed_sections": []
    },
    "kernelspec": {
      "name": "python3",
      "display_name": "Python 3"
    },
    "language_info": {
      "name": "python"
    }
  },
  "cells": [
    {
      "cell_type": "markdown",
      "metadata": {
        "id": "_uq4nKe7zIUy"
      },
      "source": [
        "## 문제 설명\n",
        "\n",
        "#### 문제\n",
        "- 준규가 가지고 있는 동전은 총 N종류이고, 각각의 동전을 매우 많이 가지고 있다.\n",
        "\n",
        "- 동전을 적절히 사용해서 그 가치의 합을 K로 만들려고 한다. 이때 필요한 동전 개수의 최솟값을 구하는 프로그램을 작성하시오.\n",
        "\n",
        "#### 입력\n",
        "- 첫째 줄에 N과 K가 주어진다. (1 ≤ N ≤ 10, 1 ≤ K ≤ 100,000,000)\n",
        "\n",
        "- 둘째 줄부터 N개의 줄에 동전의 가치 Ai가 오름차순으로 주어진다. (1 ≤ Ai ≤ 1,000,000, A1 = 1, i ≥ 2인 경우에 Ai는 Ai-1의 배수)\n",
        "\n",
        "#### 출력\n",
        "- 첫째 줄에 K원을 만드는데 필요한 동전 개수의 최솟값을 출력한다."
      ]
    },
    {
      "cell_type": "code",
      "metadata": {
        "id": "Z3DRQj3YzDV_"
      },
      "source": [
        "# 입력 예시\n",
        "\n",
        "10 4790\n",
        "1\n",
        "5\n",
        "10\n",
        "50\n",
        "100\n",
        "500\n",
        "1000\n",
        "5000\n",
        "10000\n",
        "50000\n",
        "\n",
        "# 출력 예시\n",
        "\n",
        "12"
      ],
      "execution_count": null,
      "outputs": []
    },
    {
      "cell_type": "code",
      "metadata": {
        "colab": {
          "base_uri": "https://localhost:8080/"
        },
        "id": "6IS6xQYwzfNz",
        "outputId": "8c1fb95e-f4c7-49d3-848c-8cf745968b11"
      },
      "source": [
        "# 입력 받아서 내림차순으로 리스트 생성\n",
        "N, K = map(int, input().split())\n",
        "coins = []\n",
        "for i in range(N):\n",
        "    coin = int(input())\n",
        "    coins.append(coin)\n",
        "coins.reverse()\n",
        "\n",
        "# 동전 수 세기\n",
        "count = 0\n",
        "for i in range(len(coins)):\n",
        "    count += K // coins[i]\n",
        "    K %= coins[i]\n",
        "print(count)"
      ],
      "execution_count": 17,
      "outputs": [
        {
          "output_type": "stream",
          "text": [
            "10 4790\n",
            "1\n",
            "5\n",
            "10\n",
            "50\n",
            "100\n",
            "500\n",
            "1000\n",
            "5000\n",
            "10000\n",
            "50000\n",
            "12\n"
          ],
          "name": "stdout"
        }
      ]
    },
    {
      "cell_type": "code",
      "metadata": {
        "id": "DqSHnvb5zoeM"
      },
      "source": [
        ""
      ],
      "execution_count": null,
      "outputs": []
    }
  ]
}